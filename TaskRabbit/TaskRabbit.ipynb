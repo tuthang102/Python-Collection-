{
 "cells": [
  {
   "cell_type": "code",
   "execution_count": 2,
   "metadata": {
    "collapsed": true
   },
   "outputs": [
    {
     "data": {
      "text/plain": [
       "OrderedDict([('recommendation_id', '0-0-70cf97d7-37af-4834-901c-ce3ad4893b8c'),\n             ('created_at', '2017-09-01 00:32:25'),\n             ('tasker_id', '1009185352'),\n             ('position', '1'),\n             ('hourly_rate', '38'),\n             ('num_completed_tasks', '151'),\n             ('hired', '0'),\n             ('category', 'Furniture Assembly')])"
      ]
     },
     "execution_count": 2,
     "metadata": {},
     "output_type": "execute_result"
    }
   ],
   "source": [
    "import numpy as np\n",
    "import unicodecsv\n",
    "import matplotlib.pylab as plt\n",
    "\n",
    "with open('sample.csv', 'rb') as f:\n",
    "    reader = unicodecsv.DictReader(f)\n",
    "    recommendations = list(reader)\n",
    "recommendations[0]"
   ]
  },
  {
   "cell_type": "code",
   "execution_count": 3,
   "metadata": {},
   "outputs": [
    {
     "name": "stdout",
     "output_type": "stream",
     "text": [
      "Total recommendation sets: 2100\n"
     ]
    }
   ],
   "source": [
    "# 1. How many recommendation sets are in this data sample?\n",
    "recommendation_id_counts = dict()\n",
    "\n",
    "for recommend in recommendations:\n",
    "    recommendation_id_counts[recommend['recommendation_id']] = recommendation_id_counts.get(recommend['recommendation_id'], 0) + 1\n",
    "print('Total recommendation sets:', len(recommendation_id_counts))"
   ]
  },
  {
   "cell_type": "code",
   "execution_count": 4,
   "metadata": {},
   "outputs": [
    {
     "name": "stdout",
     "output_type": "stream",
     "text": [
      "Average numer of Taskers: 14.2857142857\nMedian number of Taskers:  15.0\n"
     ]
    }
   ],
   "source": [
    "# 2. Each recommendation set shows from 1 to 15 Taskers, what is:\n",
    "#    - average number of Taskers shown\n",
    "#    - median  number of Taskers shown\n",
    "\n",
    "tasker_counts_array = np.array(list(recommendation_id_counts.values()))\n",
    "print('Average numer of Taskers:', np.mean(tasker_counts_array))\n",
    "print('Median number of Taskers: ', np.median(tasker_counts_array))"
   ]
  },
  {
   "cell_type": "code",
   "execution_count": 5,
   "metadata": {},
   "outputs": [
    {
     "name": "stdout",
     "output_type": "stream",
     "text": [
      "Total unique Taskers: 830\n"
     ]
    }
   ],
   "source": [
    "# 3. How many total unique Taskers are there in this data sample?\n",
    "tasker_counts = dict()\n",
    "for recommend in recommendations:\n",
    "    tasker_counts[recommend['tasker_id']] = tasker_counts.get(recommend['tasker_id'], 0) + 1\n",
    "\n",
    "print('Total unique Taskers:', len(tasker_counts))"
   ]
  },
  {
   "cell_type": "code",
   "execution_count": 6,
   "metadata": {},
   "outputs": [
    {
     "name": "stdout",
     "output_type": "stream",
     "text": [
      "Tasker has been shown the least: ('1011985968', 1)\nTasker has been shown the most: ('1014508755', 608)\n"
     ]
    }
   ],
   "source": [
    "# 4. Which Tasker has been shown the most?\n",
    "#    Which Tasker has been shown the least?\n",
    "import operator\n",
    "sorted_taskers = sorted(tasker_counts.items(), key=operator.itemgetter(1))\n",
    "# print(sorted_taskers)  \n",
    "print('Tasker has been shown the least:', sorted_taskers[0]) #There are many other taskers with 1 shown \n",
    "print('Tasker has been shown the most:', sorted_taskers[-1])"
   ]
  },
  {
   "cell_type": "code",
   "execution_count": 7,
   "metadata": {},
   "outputs": [
    {
     "name": "stdout",
     "output_type": "stream",
     "text": [
      "Tasker with the most hire: ('1012043028', 59)\nTasker with the least hire: ('1013579273', 0)\n"
     ]
    }
   ],
   "source": [
    "# 5. Which Tasker has been hired the most?\n",
    "#    Which Tasker has been hired the least?\n",
    "hire_counts = dict()\n",
    "for recommend in recommendations:\n",
    "    hire_counts[recommend['tasker_id']] = hire_counts.get(recommend['tasker_id'], 0) + int(recommend['hired'])\n",
    "sorted_hire = sorted(hire_counts.items(), key=operator.itemgetter(1))\n",
    "# print(sorted_hire)\n",
    "print('Tasker with the most hire:', sorted_hire[-1])\n",
    "print('Tasker with the least hire:', sorted_hire[0]) # There are many other taskers with zero hire"
   ]
  },
  {
   "cell_type": "code",
   "execution_count": 8,
   "metadata": {},
   "outputs": [
    {
     "name": "stdout",
     "output_type": "stream",
     "text": [
      "Number of Taskers with 100% conversion rate: 6\n"
     ]
    }
   ],
   "source": [
    "# 6. If we define the \"Tasker conversion rate\" as the number of times a\n",
    "#    Tasker has been hired, out of the number of times the Tasker has\n",
    "#    been shown, how many Taskers have a conversion rate of 100%\n",
    "\n",
    "conversion_rate = dict()\n",
    "count = 0\n",
    "for key in tasker_counts.keys():\n",
    "    conversion_rate[key] = (hire_counts[key]/tasker_counts[key]) * 100\n",
    "    if conversion_rate[key] == 100:\n",
    "        count += 1\n",
    "print('Number of Taskers with 100% conversion rate:', count)"
   ]
  },
  {
   "cell_type": "code",
   "execution_count": 9,
   "metadata": {},
   "outputs": [],
   "source": [
    "# 7. Would it be possible for all Taskers to have a conversion rate of 100%\n",
    "#    Please explain your reasoning.\n",
    "#    No. It is because there is only 1 Tasker out of a set of recommendations can be hired."
   ]
  },
  {
   "cell_type": "code",
   "execution_count": 10,
   "metadata": {},
   "outputs": [
    {
     "name": "stdout",
     "output_type": "stream",
     "text": [
      "Category: Furniture Assembly --- Average position: 3.61188811189\nCategory: Moving Help --- Average position: 4.14535901926\nCategory: Mounting --- Average position: 4.59608540925\n"
     ]
    }
   ],
   "source": [
    "# 8. For each category, what is the average position of the Tasker who is hired?\n",
    "category_counts = dict()\n",
    "for recommend in recommendations:\n",
    "    category = recommend['category']\n",
    "    if category not in category_counts: \n",
    "        category_counts[category] = list()\n",
    "    if int(recommend['hired']) == 1:\n",
    "        category_counts[category].append(int(recommend['position']))\n",
    "for key, val in category_counts.items():\n",
    "    print('Category:', key, '---', 'Average position:', np.mean(np.array(val)))"
   ]
  },
  {
   "cell_type": "code",
   "execution_count": 11,
   "metadata": {},
   "outputs": [
    {
     "name": "stdout",
     "output_type": "stream",
     "text": [
      "Category: Furniture Assembly --- Average hourly rate: 38.701048951\nCategory: Moving Help --- Average hourly rate: 63.0122591944\nCategory: Mounting --- Average hourly rate: 50.1548042705\n\nCategory: Furniture Assembly --- Average number of completed tasks: 249.020979021\nCategory: Moving Help --- Average number of completed tasks: 273.882661996\nCategory: Mounting --- Average number of completed tasks: 284.096085409\n"
     ]
    }
   ],
   "source": [
    "# 9. For each category, what is the average hourly rate and average number of completed tasks for the Taskers who are hired?\n",
    "hourly_rate = dict()\n",
    "completed_tasks = dict()\n",
    "for recommend in recommendations:\n",
    "    category = recommend['category']\n",
    "    if category not in hourly_rate:\n",
    "        hourly_rate[category] = list()\n",
    "        completed_tasks[category] = list()\n",
    "    if int(recommend['hired']) == 1:\n",
    "        hourly_rate[category].append(int(recommend['hourly_rate']))\n",
    "        completed_tasks[category].append(int(recommend['num_completed_tasks']))\n",
    "\n",
    "for key, val in hourly_rate.items():\n",
    "    print('Category:', key, '---', 'Average hourly rate:', np.mean(np.array(val)))\n",
    "print()\n",
    "for key, val in completed_tasks.items():\n",
    "    print('Category:', key, '---', 'Average number of completed tasks:', np.mean(np.array(val)))"
   ]
  },
  {
   "cell_type": "code",
   "execution_count": 55,
   "metadata": {},
   "outputs": [
    {
     "data": {
      "image/png": "[encoded data removed]",
      "text/plain": [
       "<matplotlib.figure.Figure at 0xf710e48>"
      ]
     },
     "metadata": {},
     "output_type": "display_data"
    }
   ],
   "source": [
    "# 10. Based on the previous, how would you approach the question of:\n",
    "#     How can we use market data to suggest hourly rates to Taskers that would\n",
    "#     maximize their opportunity to be hired?\n",
    "#     Please describe in detail, with code and formulas that support your model.\n",
    "import seaborn as sns \n",
    "%matplotlib inline\n",
    "sns.set()\n",
    "fig, axs = plt.subplots(ncols=1, nrows=3, figsize=(20, 7))\n",
    "i = 1\n",
    "for key, val in hourly_rate.items():\n",
    "    plt.subplot(1, 3, i)\n",
    "    plt.hist(np.array(val), bins = 15)\n",
    "    plt.xlabel('Hourly Rate')\n",
    "    plt.ylabel('Frequency')\n",
    "    plt.title(key)\n",
    "    i += 1\n",
    "# Based on the results of question 9 and the histogram plots, the average hourly rates should be set around 40 for furniture assembly,\n",
    "# 50 for moving help and 55 for for mounting"
   ]
  }
 ],
 "metadata": {
  "kernelspec": {
   "display_name": "Python 2",
   "language": "python",
   "name": "python2"
  },
  "language_info": {
   "codemirror_mode": {
    "name": "ipython",
    "version": 2.0
   },
   "file_extension": ".py",
   "mimetype": "text/x-python",
   "name": "python",
   "nbconvert_exporter": "python",
   "pygments_lexer": "ipython2",
   "version": "2.7.6"
  }
 },
 "nbformat": 4,
 "nbformat_minor": 0
}